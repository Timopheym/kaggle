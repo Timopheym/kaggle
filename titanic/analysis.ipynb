{
 "cells": [
  {
   "cell_type": "code",
   "execution_count": 6,
   "metadata": {
    "collapsed": false
   },
   "outputs": [],
   "source": [
    "from pandas import Series,DataFrame\n",
    "import numpy as np\n",
    "import matplotlib.pyplot as plt\n",
    "from sklearn.svm import SVC, LinearSVC\n",
    "from sklearn.ensemble import RandomForestClassifier\n",
    "from sklearn.neighbors import KNeighborsClassifier\n",
    "from sklearn.naive_bayes import GaussianNB\n",
    "from sklearn.linear_model import LogisticRegression\n",
    "from sklearn.tree import DecisionTreeClassifier\n",
    "from sklearn.ensemble import GradientBoostingClassifier\n",
    "from sklearn import metrics\n",
    "from sklearn import cross_validation\n",
    "from sklearn import preprocessing\n",
    "from features import train, test"
   ]
  },
  {
   "cell_type": "code",
   "execution_count": 3,
   "metadata": {
    "collapsed": true
   },
   "outputs": [],
   "source": [
    "X_train = train.drop(\"Survived\",axis=1)\n",
    "predictors = [\"Pclass\", \"Fare\", \"Title\", \"Sex\", \"FamilySize\"]"
   ]
  },
  {
   "cell_type": "code",
   "execution_count": 9,
   "metadata": {
    "collapsed": false,
    "scrolled": false
   },
   "outputs": [
    {
     "name": "stdout",
     "output_type": "stream",
     "text": [
      "[0.77000000000000002, 0.79000000000000004, 0.79000000000000004, 0.80000000000000004, 0.80000000000000004, 0.82999999999999996, 0.81999999999999995]\n",
      "Winner is:  Forest 0.83\n"
     ]
    }
   ],
   "source": [
    "import warnings\n",
    "warnings.simplefilter(\"ignore\") \n",
    "X = train[predictors] \n",
    "y = train[\"Survived\"]\n",
    "\n",
    "X = preprocessing.scale(X)\n",
    "\n",
    "a1 = GaussianNB()\n",
    "a2 = KNeighborsClassifier(n_neighbors=3) \n",
    "a3 = SVC(kernel=\"poly\", gamma=3, cache_size=500, C = 0.8)\n",
    "a4 = LogisticRegression()\n",
    "a5 = DecisionTreeClassifier()\n",
    "a6 = GradientBoostingClassifier(random_state=1, n_estimators=25, max_depth=3)\n",
    "a7 = RandomForestClassifier(random_state=1, n_estimators=150, min_samples_split=8, min_samples_leaf=4)\n",
    " \n",
    "algorithms=[a1, a2, a3, a4, a5, a6, a7]\n",
    "d=[]\n",
    "i = 0\n",
    "for model in algorithms:\n",
    "    scores=cross_validation.cross_val_score(model, X, y, scoring=None,\n",
    "                                            cv=3, n_jobs=1, verbose=0, fit_params=None, pre_dispatch='2*n_jobs')\n",
    "                    \n",
    "    d.append(round(scores.mean(), 2))\n",
    "    i = i + 1\n",
    "    \n",
    "x=np.arange(len(d))\n",
    "algo_names = ['KNeighbors', 'Gauss', 'SVC', 'Logistic', 'Tree',\n",
    "                             'Forest', 'Boosting']\n",
    "plt.bar(x, d, label='Died')\n",
    "plt.xticks(np.array(x)+0.37, algo_names)\n",
    "plt.ylabel(\"Probability\")\n",
    "plt.xlabel(\"\")\n",
    "plt.show()\n",
    "\n",
    "print(d)\n",
    "print(\"Winner is: \", algo_names[d.index(max(d))], max(d))"
   ]
  }
 ],
 "metadata": {
  "kernelspec": {
   "display_name": "Python 3",
   "language": "python",
   "name": "python3"
  },
  "language_info": {
   "codemirror_mode": {
    "name": "ipython",
    "version": 3
   },
   "file_extension": ".py",
   "mimetype": "text/x-python",
   "name": "python",
   "nbconvert_exporter": "python",
   "pygments_lexer": "ipython3",
   "version": "3.5.0"
  }
 },
 "nbformat": 4,
 "nbformat_minor": 0
}
